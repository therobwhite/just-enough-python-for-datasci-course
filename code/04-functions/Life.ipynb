{
 "cells": [
  {
   "cell_type": "markdown",
   "id": "5d606a7e-1243-4397-8e36-dbbb303e999d",
   "metadata": {},
   "source": [
    "# Conway's Game of Life\n",
    "\n",
    "Conway’s Game of Life is a zero‑player, two‑dimensional cellular automaton devised by John Horton Conway in 1970. It consists of an infinite grid of square cells, each of which is either “alive” or “dead.” At each discrete time step, every cell updates simultaneously according to four simple rules based on its eight neighbors: underpopulation, overcrowding, survival, and reproduction. Despite its simplicity, these rules give rise to unexpectedly rich behaviors—such as still lifes, oscillators, gliders, and even patterns capable of universal computation—entirely determined by the initial configuration \n",
    "\n",
    "For more details, see the full article on Wikipedia: [Conway’s Game of Life on Wikipedia](https://en.wikipedia.org/wiki/Conway%27s_Game_of_Life)"
   ]
  },
  {
   "cell_type": "code",
   "execution_count": 1,
   "id": "9c64ac51-ebaa-4097-8114-6046180ab49b",
   "metadata": {},
   "outputs": [],
   "source": [
    "rows = 20         # Number of rows in the grid\n",
    "cols = 60         # Number of columns in the grid \n",
    "generations = 50  # Number of generations to simulate\n",
    "delay = 0.2       # Delay between generations in seconds"
   ]
  },
  {
   "cell_type": "code",
   "execution_count": 2,
   "id": "7d651212-b12e-4813-9ce6-6da6c3c19667",
   "metadata": {
    "jupyter": {
     "source_hidden": true
    }
   },
   "outputs": [],
   "source": [
    "# Necessary imports\n",
    "import random\n",
    "import time\n",
    "from IPython.display import clear_output"
   ]
  },
  {
   "cell_type": "markdown",
   "id": "5805dd6f-f092-4b81-8820-25452f5b3468",
   "metadata": {},
   "source": [
    "## Setup the grid and display"
   ]
  },
  {
   "cell_type": "markdown",
   "id": "658fa762",
   "metadata": {},
   "source": []
  },
  {
   "cell_type": "code",
   "execution_count": 3,
   "id": "a0f916aa-761a-431b-9960-82640f53399a",
   "metadata": {
    "jupyter": {
     "source_hidden": true
    }
   },
   "outputs": [],
   "source": [
    "# Characters for display\n",
    "alive_char = '●'  # filled circle for alive cells\n",
    "dead_char = '·'  # middle dot for dead cells\n",
    "\n",
    "# Initialize random grid (0 = dead, 1 = alive)\n",
    "grid = [[random.randint(0, 1) for _ in range(cols)] for _ in range(rows)]"
   ]
  },
  {
   "cell_type": "markdown",
   "id": "c880b7fb-9035-43b6-9355-0a0e71238886",
   "metadata": {},
   "source": [
    "## Compute a single generation\n",
    "\n",
    "The code below will compute a single iteration of Conway's Game of Life."
   ]
  },
  {
   "cell_type": "code",
   "execution_count": 4,
   "id": "e731d55c-3f66-4c76-983d-fec7329ebde8",
   "metadata": {},
   "outputs": [],
   "source": [
    "def run_one_generation(old_grid: list[list[int]]) -> list[list[int]]:\n",
    "    new_grid = []\n",
    "\n",
    "    for i in range(rows):\n",
    "        new_row = []\n",
    "        for j in range(cols):\n",
    "            # Count live neighbors (including wraparound)\n",
    "            neighbor_count = sum(\n",
    "                old_grid[(i + di) % rows][(j + dj) % cols]\n",
    "                for di in (-1, 0, 1)\n",
    "                for dj in (-1, 0, 1)\n",
    "                if not (di == 0 and dj == 0)\n",
    "            )\n",
    "\n",
    "            # Apply Conway's rules:\n",
    "            # 1. Any live cell with 2-3 neighbors survives\n",
    "            # 2. Any dead cell with exactly 3 neighbors becomes alive\n",
    "            # 3. All other cells die or stay dead\n",
    "            if old_grid[i][j] == 1:  # Currently alive\n",
    "                new_row.append(1 if neighbor_count in (2, 3) else 0)\n",
    "            else:  # Currently dead\n",
    "                new_row.append(1 if neighbor_count == 3 else 0)\n",
    "\n",
    "        new_grid.append(new_row)\n",
    "    return new_grid"
   ]
  },
  {
   "cell_type": "markdown",
   "id": "d60c0d44-b9cf-4388-9a7e-6fc208b19a49",
   "metadata": {},
   "source": [
    "## Display the current \"board\" for the Game of Life"
   ]
  },
  {
   "cell_type": "code",
   "execution_count": 5,
   "id": "294538d0-9a77-413f-80e2-dc5579f4d97c",
   "metadata": {
    "jupyter": {
     "source_hidden": true
    }
   },
   "outputs": [],
   "source": [
    "def display_current_grid(current_grid):\n",
    "    # Clear previous output\n",
    "    clear_output(wait=True)\n",
    "\n",
    "    # Count alive cells\n",
    "    alive_count = sum(sum(row) for row in current_grid)\n",
    "\n",
    "    # Display header\n",
    "    print(f'🔬 Game of Life | Generation {gen}/{generations} | Alive: {alive_count}')\n",
    "    print('=' * cols)\n",
    "\n",
    "    # Display grid\n",
    "    for row in current_grid:\n",
    "        print(''.join(alive_char if cell else dead_char for cell in row))\n",
    "\n",
    "    print('=' * cols)"
   ]
  },
  {
   "cell_type": "markdown",
   "id": "cbb3a408-2d91-4f89-9514-7c944e6e65ef",
   "metadata": {},
   "source": [
    "## Run the Game of Life Simulation"
   ]
  },
  {
   "cell_type": "code",
   "execution_count": 6,
   "id": "093aa18e-54aa-432d-b9c8-3eb7e1d49a00",
   "metadata": {},
   "outputs": [
    {
     "name": "stdout",
     "output_type": "stream",
     "text": [
      "🔬 Game of Life | Generation 50/50 | Alive: 191\n",
      "============================================================\n",
      "······●···●·●●······●●·●●●··············●●··●······●········\n",
      "·····●··●·●·●●·······●···●·············●●····●··············\n",
      "·····●······●·········●●●··············●·····●·····●········\n",
      "···········●●··································●●●····●●●···\n",
      "·········●·●●···········································●···\n",
      "···········●············································●●··\n",
      "·······●···●·●·······································●··●···\n",
      "·······●···●●····························●··········●●··●●··\n",
      "······●●·●···●·●························●·●·········●●······\n",
      "●●●·●··●·······●●●················●●●···●··●················\n",
      "●●●●·●·●●·····●··●··············●·●······●●·················\n",
      "●··●···●●····●●·●●·············●●····●······················\n",
      "●●···●··●●····●················●●···························\n",
      "·●●●●···●●····●···········●········●●●·····●●···············\n",
      "··●·········●········●····●●·······●·······●●···············\n",
      "············●···●··●●●····●●●······●●··●····················\n",
      "·············●··●●·●·●····●●·······●●●●·●···················\n",
      "·●········●●●·●●●●···················●●●····················\n",
      "·●······●●●●●●●···●●·●················●·······●·············\n",
      "·●·····●·······●····●●●●······················●·●·●·········\n",
      "============================================================\n"
     ]
    }
   ],
   "source": [
    "for gen in range(1, generations + 1):\n",
    "    display_current_grid(grid)\n",
    "    grid = run_one_generation(grid)\n",
    "    time.sleep(delay) # Sleep before next generation"
   ]
  }
 ],
 "metadata": {
  "kernelspec": {
   "display_name": "jep",
   "language": "python",
   "name": "python3"
  },
  "language_info": {
   "codemirror_mode": {
    "name": "ipython",
    "version": 3
   },
   "file_extension": ".py",
   "mimetype": "text/x-python",
   "name": "python",
   "nbconvert_exporter": "python",
   "pygments_lexer": "ipython3",
   "version": "3.13.5"
  }
 },
 "nbformat": 4,
 "nbformat_minor": 5
}
